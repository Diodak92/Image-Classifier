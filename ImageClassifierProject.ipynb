{
 "cells": [
  {
   "cell_type": "markdown",
   "metadata": {},
   "source": [
    "# Developing an AI application\n",
    "\n",
    "Going forward, AI algorithms will be incorporated into more and more everyday applications. For example, you might want to include an image classifier in a smart phone app. To do this, you'd use a deep learning model trained on hundreds of thousands of images as part of the overall application architecture. A large part of software development in the future will be using these types of models as common parts of applications. \n",
    "\n",
    "In this project, you'll train an image classifier to recognize different species of flowers. You can imagine using something like this in a phone app that tells you the name of the flower your camera is looking at. In practice you'd train this classifier, then export it for use in your application. We'll be using [this dataset](http://www.robots.ox.ac.uk/~vgg/data/flowers/102/index.html) of 102 flower categories, you can see a few examples below. \n",
    "\n",
    "<img src='assets/Flowers.png' width=500px>\n",
    "\n",
    "The project is broken down into multiple steps:\n",
    "\n",
    "* Load and preprocess the image dataset\n",
    "* Train the image classifier on your dataset\n",
    "* Use the trained classifier to predict image content\n",
    "\n",
    "We'll lead you through each part which you'll implement in Python.\n",
    "\n",
    "When you've completed this project, you'll have an application that can be trained on any set of labeled images. Here your network will be learning about flowers and end up as a command line application. But, what you do with your new skills depends on your imagination and effort in building a dataset. For example, imagine an app where you take a picture of a car, it tells you what the make and model is, then looks up information about it. Go build your own dataset and make something new.\n",
    "\n",
    "First up is importing the packages you'll need. It's good practice to keep all the imports at the beginning of your code. As you work through this notebook and find you need to import a package, make sure to add the import up here."
   ]
  },
  {
   "cell_type": "code",
   "execution_count": 1,
   "metadata": {},
   "outputs": [],
   "source": [
    "%matplotlib inline\n",
    "%config InlineBackend.figure_format = 'retina'\n",
    "\n",
    "# Imports here\n",
    "import random\n",
    "import matplotlib.pyplot as plt\n",
    "\n",
    "import numpy as np\n",
    "\n",
    "import torch\n",
    "from torch import nn, optim\n",
    "import torch.nn.functional as F\n",
    "from torch.utils.data import DataLoader\n",
    "from torchvision import datasets, transforms, models\n",
    "\n",
    "from PIL import Image"
   ]
  },
  {
   "cell_type": "markdown",
   "metadata": {},
   "source": [
    "## Load the data\n",
    "\n",
    "Here you'll use `torchvision` to load the data ([documentation](http://pytorch.org/docs/0.3.0/torchvision/index.html)). The data should be included alongside this notebook, otherwise you can [download it here](https://s3.amazonaws.com/content.udacity-data.com/nd089/flower_data.tar.gz). The dataset is split into three parts, training, validation, and testing. For the training, you'll want to apply transformations such as random scaling, cropping, and flipping. This will help the network generalize leading to better performance. You'll also need to make sure the input data is resized to 224x224 pixels as required by the pre-trained networks.\n",
    "\n",
    "The validation and testing sets are used to measure the model's performance on data it hasn't seen yet. For this you don't want any scaling or rotation transformations, but you'll need to resize then crop the images to the appropriate size.\n",
    "\n",
    "The pre-trained networks you'll use were trained on the ImageNet dataset where each color channel was normalized separately. For all three sets you'll need to normalize the means and standard deviations of the images to what the network expects. For the means, it's `[0.485, 0.456, 0.406]` and for the standard deviations `[0.229, 0.224, 0.225]`, calculated from the ImageNet images.  These values will shift each color channel to be centered at 0 and range from -1 to 1.\n",
    " "
   ]
  },
  {
   "cell_type": "code",
   "execution_count": 2,
   "metadata": {},
   "outputs": [],
   "source": [
    "data_dir = 'flowers'\n",
    "train_dir = data_dir + '/train'\n",
    "valid_dir = data_dir + '/valid'\n",
    "test_dir = data_dir + '/test'"
   ]
  },
  {
   "cell_type": "code",
   "execution_count": 3,
   "metadata": {},
   "outputs": [
    {
     "name": "stdout",
     "output_type": "stream",
     "text": [
      "<class 'torch.Tensor'>\n",
      "torch.Size([64, 3, 224, 224])\n",
      "torch.Size([64])\n"
     ]
    }
   ],
   "source": [
    "# TODO: Define your transforms for the training, validation, and testing sets\n",
    "\n",
    "train_data_transform = transforms.Compose([\n",
    "    transforms.RandomRotation(random.randint(0, 30)),\n",
    "    transforms.RandomHorizontalFlip(),\n",
    "    transforms.RandomVerticalFlip(),\n",
    "    transforms.RandomResizedCrop(224),\n",
    "    transforms.ToTensor(),\n",
    "    transforms.Normalize([0.485, 0.456, 0.406], [0.229, 0.224, 0.225])])\n",
    "\n",
    "test_valid_data_transform = transforms.Compose(\n",
    "    [transforms.Resize(256),\n",
    "     transforms.CenterCrop(224),\n",
    "     transforms.ToTensor(),\n",
    "     transforms.Normalize([0.485, 0.456, 0.406], [0.229, 0.224, 0.225])])\n",
    "\n",
    "# TODO: Load the datasets with ImageFolder\n",
    "train_dataset = datasets.ImageFolder(train_dir, transform = train_data_transform)\n",
    "valid_dataset = datasets.ImageFolder(valid_dir, transform = test_valid_data_transform)\n",
    "test_dataset = datasets.ImageFolder(test_dir, transform = test_valid_data_transform)\n",
    "\n",
    "# TODO: Using the image datasets and the trainforms, define the dataloaders\n",
    "train_dataloader = DataLoader(train_dataset, batch_size=64, shuffle=True)\n",
    "valid_dataloader = DataLoader(valid_dataset, batch_size=64, shuffle=False)\n",
    "test_dataloader = DataLoader(test_dataset, batch_size=64, shuffle=False)\n",
    "\n",
    "data_iter = iter(train_dataloader)\n",
    "images, labels = data_iter.next()\n",
    "print(type(images))\n",
    "print(images.shape)\n",
    "print(labels.shape)"
   ]
  },
  {
   "cell_type": "markdown",
   "metadata": {},
   "source": [
    "### Label mapping\n",
    "\n",
    "You'll also need to load in a mapping from category label to category name. You can find this in the file `cat_to_name.json`. It's a JSON object which you can read in with the [`json` module](https://docs.python.org/2/library/json.html). This will give you a dictionary mapping the integer encoded categories to the actual names of the flowers."
   ]
  },
  {
   "cell_type": "code",
   "execution_count": 4,
   "metadata": {},
   "outputs": [
    {
     "name": "stdout",
     "output_type": "stream",
     "text": [
      "Dataset has 102 categories\n",
      "\n",
      " List of labels:\n",
      "1. label: alpine sea holly; index : 35\n",
      "2. label: anthurium; index : 80\n",
      "3. label: artichoke; index : 29\n",
      "4. label: azalea; index : 72\n",
      "5. label: ball moss; index : 93\n",
      "6. label: balloon flower; index : 19\n",
      "7. label: barbeton daisy; index : 41\n",
      "8. label: bearded iris; index : 68\n",
      "9. label: bee balm; index : 92\n",
      "10. label: bird of paradise; index : 8\n",
      "11. label: bishop of llandaff; index : 56\n",
      "12. label: black-eyed susan; index : 63\n",
      "13. label: blackberry lily; index : 102\n",
      "14. label: blanket flower; index : 100\n",
      "15. label: bolero deep blue; index : 45\n",
      "16. label: bougainvillea; index : 95\n",
      "17. label: bromelia; index : 99\n",
      "18. label: buttercup; index : 48\n",
      "19. label: californian poppy; index : 65\n",
      "20. label: camellia; index : 96\n",
      "21. label: canna lily; index : 90\n",
      "22. label: canterbury bells; index : 3\n",
      "23. label: cape flower; index : 37\n",
      "24. label: carnation; index : 31\n",
      "25. label: cautleya spicata; index : 61\n",
      "26. label: clematis; index : 82\n",
      "27. label: colt's foot; index : 12\n",
      "28. label: columbine; index : 84\n",
      "29. label: common dandelion; index : 50\n",
      "30. label: corn poppy; index : 26\n",
      "31. label: cyclamen; index : 88\n",
      "32. label: daffodil; index : 42\n",
      "33. label: desert-rose; index : 85\n",
      "34. label: english marigold; index : 5\n",
      "35. label: fire lily; index : 21\n",
      "36. label: foxglove; index : 94\n",
      "37. label: frangipani; index : 81\n",
      "38. label: fritillary; index : 23\n",
      "39. label: garden phlox; index : 32\n",
      "40. label: gaura; index : 57\n",
      "41. label: gazania; index : 71\n",
      "42. label: geranium; index : 58\n",
      "43. label: giant white arum lily; index : 20\n",
      "44. label: globe thistle; index : 10\n",
      "45. label: globe-flower; index : 16\n",
      "46. label: grape hyacinth; index : 25\n",
      "47. label: great masterwort; index : 38\n",
      "48. label: hard-leaved pocket orchid; index : 2\n",
      "49. label: hibiscus; index : 83\n",
      "50. label: hippeastrum; index : 91\n",
      "51. label: japanese anemone; index : 62\n",
      "52. label: king protea; index : 13\n",
      "53. label: lenten rose; index : 40\n",
      "54. label: lotus lotus; index : 78\n",
      "55. label: love in the mist; index : 33\n",
      "56. label: magnolia; index : 87\n",
      "57. label: mallow; index : 97\n",
      "58. label: marigold; index : 47\n",
      "59. label: mexican aster; index : 34\n",
      "60. label: mexican petunia; index : 98\n",
      "61. label: monkshood; index : 9\n",
      "62. label: moon orchid; index : 7\n",
      "63. label: morning glory; index : 76\n",
      "64. label: orange dahlia; index : 59\n",
      "65. label: osteospermum; index : 66\n",
      "66. label: oxeye daisy; index : 49\n",
      "67. label: passion flower; index : 77\n",
      "68. label: pelargonium; index : 55\n",
      "69. label: peruvian lily; index : 18\n",
      "70. label: petunia; index : 51\n",
      "71. label: pincushion flower; index : 22\n",
      "72. label: pink primrose; index : 1\n",
      "73. label: pink-yellow dahlia; index : 60\n",
      "74. label: poinsettia; index : 44\n",
      "75. label: primula; index : 53\n",
      "76. label: prince of wales feathers; index : 27\n",
      "77. label: purple coneflower; index : 17\n",
      "78. label: red ginger; index : 24\n",
      "79. label: rose; index : 74\n",
      "80. label: ruby-lipped cattleya; index : 36\n",
      "81. label: siam tulip; index : 39\n",
      "82. label: silverbush; index : 64\n",
      "83. label: snapdragon; index : 11\n",
      "84. label: spear thistle; index : 14\n",
      "85. label: spring crocus; index : 67\n",
      "86. label: stemless gentian; index : 28\n",
      "87. label: sunflower; index : 54\n",
      "88. label: sweet pea; index : 4\n",
      "89. label: sweet william; index : 30\n",
      "90. label: sword lily; index : 43\n",
      "91. label: thorn apple; index : 75\n",
      "92. label: tiger lily; index : 6\n",
      "93. label: toad lily; index : 79\n",
      "94. label: tree mallow; index : 86\n",
      "95. label: tree poppy; index : 70\n",
      "96. label: trumpet creeper; index : 101\n",
      "97. label: wallflower; index : 46\n",
      "98. label: water lily; index : 73\n",
      "99. label: watercress; index : 89\n",
      "100. label: wild pansy; index : 52\n",
      "101. label: windflower; index : 69\n",
      "102. label: yellow iris; index : 15\n"
     ]
    }
   ],
   "source": [
    "import json\n",
    "\n",
    "with open('cat_to_name.json', 'r') as f:\n",
    "    cat_to_name = json.load(f)\n",
    "    print('Dataset has {} categories\\n\\n'.format(len(cat_to_name)),\n",
    "          'List of labels:')\n",
    "    cat_to_name = dict(sorted(cat_to_name.items(), key = lambda x:x[1]))\n",
    "    i = 1\n",
    "    for item in cat_to_name.items():\n",
    "        print('{}. label: {}; index : {}'.format(i, item[1], item[0]))\n",
    "        i += 1"
   ]
  },
  {
   "cell_type": "markdown",
   "metadata": {},
   "source": [
    "# Building and training the classifier\n",
    "\n",
    "Now that the data is ready, it's time to build and train the classifier. As usual, you should use one of the pretrained models from `torchvision.models` to get the image features. Build and train a new feed-forward classifier using those features.\n",
    "\n",
    "We're going to leave this part up to you. Refer to [the rubric](https://review.udacity.com/#!/rubrics/1663/view) for guidance on successfully completing this section. Things you'll need to do:\n",
    "\n",
    "* Load a [pre-trained network](http://pytorch.org/docs/master/torchvision/models.html) (If you need a starting point, the VGG networks work great and are straightforward to use)\n",
    "* Define a new, untrained feed-forward network as a classifier, using ReLU activations and dropout\n",
    "* Train the classifier layers using backpropagation using the pre-trained network to get the features\n",
    "* Track the loss and accuracy on the validation set to determine the best hyperparameters\n",
    "\n",
    "We've left a cell open for you below, but use as many as you need. Our advice is to break the problem up into smaller parts you can run separately. Check that each part is doing what you expect, then move on to the next. You'll likely find that as you work through each part, you'll need to go back and modify your previous code. This is totally normal!\n",
    "\n",
    "When training make sure you're updating only the weights of the feed-forward network. You should be able to get the validation accuracy above 70% if you build everything right. Make sure to try different hyperparameters (learning rate, units in the classifier, epochs, etc) to find the best model. Save those hyperparameters to use as default values in the next part of the project.\n",
    "\n",
    "One last important tip if you're using the workspace to run your code: To avoid having your workspace disconnect during the long-running tasks in this notebook, please read in the earlier page in this lesson called Intro to\n",
    "GPU Workspaces about Keeping Your Session Active. You'll want to include code from the workspace_utils.py module.\n",
    "\n",
    "<font color='red'>**Note for Workspace users:** If your network is over 1 GB when saved as a checkpoint, there might be issues with saving backups in your workspace. Typically this happens with wide dense layers after the convolutional layers. If your saved checkpoint is larger than 1 GB (you can open a terminal and check with `ls -lh`), you should reduce the size of your hidden layers and train again.</font>"
   ]
  },
  {
   "cell_type": "code",
   "execution_count": 5,
   "metadata": {},
   "outputs": [],
   "source": [
    "# TODO: Build and train your network\n",
    "my_model = models.vgg16(pretrained = True)\n",
    "# freeze features for model\n",
    "for param in my_model.parameters():\n",
    "    param.requires_grad = False"
   ]
  },
  {
   "cell_type": "code",
   "execution_count": 6,
   "metadata": {},
   "outputs": [
    {
     "data": {
      "text/plain": [
       "VGG(\n",
       "  (features): Sequential(\n",
       "    (0): Conv2d(3, 64, kernel_size=(3, 3), stride=(1, 1), padding=(1, 1))\n",
       "    (1): ReLU(inplace)\n",
       "    (2): Conv2d(64, 64, kernel_size=(3, 3), stride=(1, 1), padding=(1, 1))\n",
       "    (3): ReLU(inplace)\n",
       "    (4): MaxPool2d(kernel_size=2, stride=2, padding=0, dilation=1, ceil_mode=False)\n",
       "    (5): Conv2d(64, 128, kernel_size=(3, 3), stride=(1, 1), padding=(1, 1))\n",
       "    (6): ReLU(inplace)\n",
       "    (7): Conv2d(128, 128, kernel_size=(3, 3), stride=(1, 1), padding=(1, 1))\n",
       "    (8): ReLU(inplace)\n",
       "    (9): MaxPool2d(kernel_size=2, stride=2, padding=0, dilation=1, ceil_mode=False)\n",
       "    (10): Conv2d(128, 256, kernel_size=(3, 3), stride=(1, 1), padding=(1, 1))\n",
       "    (11): ReLU(inplace)\n",
       "    (12): Conv2d(256, 256, kernel_size=(3, 3), stride=(1, 1), padding=(1, 1))\n",
       "    (13): ReLU(inplace)\n",
       "    (14): Conv2d(256, 256, kernel_size=(3, 3), stride=(1, 1), padding=(1, 1))\n",
       "    (15): ReLU(inplace)\n",
       "    (16): MaxPool2d(kernel_size=2, stride=2, padding=0, dilation=1, ceil_mode=False)\n",
       "    (17): Conv2d(256, 512, kernel_size=(3, 3), stride=(1, 1), padding=(1, 1))\n",
       "    (18): ReLU(inplace)\n",
       "    (19): Conv2d(512, 512, kernel_size=(3, 3), stride=(1, 1), padding=(1, 1))\n",
       "    (20): ReLU(inplace)\n",
       "    (21): Conv2d(512, 512, kernel_size=(3, 3), stride=(1, 1), padding=(1, 1))\n",
       "    (22): ReLU(inplace)\n",
       "    (23): MaxPool2d(kernel_size=2, stride=2, padding=0, dilation=1, ceil_mode=False)\n",
       "    (24): Conv2d(512, 512, kernel_size=(3, 3), stride=(1, 1), padding=(1, 1))\n",
       "    (25): ReLU(inplace)\n",
       "    (26): Conv2d(512, 512, kernel_size=(3, 3), stride=(1, 1), padding=(1, 1))\n",
       "    (27): ReLU(inplace)\n",
       "    (28): Conv2d(512, 512, kernel_size=(3, 3), stride=(1, 1), padding=(1, 1))\n",
       "    (29): ReLU(inplace)\n",
       "    (30): MaxPool2d(kernel_size=2, stride=2, padding=0, dilation=1, ceil_mode=False)\n",
       "  )\n",
       "  (classifier): Sequential(\n",
       "    (0): Linear(in_features=25088, out_features=4096, bias=True)\n",
       "    (1): ReLU()\n",
       "    (2): Dropout(p=0.25)\n",
       "    (3): Linear(in_features=4096, out_features=512, bias=True)\n",
       "    (4): ReLU()\n",
       "    (5): Dropout(p=0.25)\n",
       "    (6): Linear(in_features=512, out_features=102, bias=True)\n",
       "    (7): LogSoftmax()\n",
       "  )\n",
       ")"
      ]
     },
     "execution_count": 6,
     "metadata": {},
     "output_type": "execute_result"
    }
   ],
   "source": [
    "# define calssifier architecture\n",
    "my_model.classifier = nn.Sequential(nn.Linear(25088, 4096),\n",
    "                                 nn.ReLU(),\n",
    "                                 nn.Dropout(p=0.25, inplace=False),\n",
    "                                 nn.Linear(4096, 512),\n",
    "                                 nn.ReLU(),\n",
    "                                 nn.Dropout(p=0.25, inplace=False),\n",
    "                                 nn.Linear(512, 102),\n",
    "                                 nn.LogSoftmax(dim = 1))\n",
    "my_model"
   ]
  },
  {
   "cell_type": "code",
   "execution_count": 7,
   "metadata": {},
   "outputs": [],
   "source": [
    "# model training\n",
    "def train_nn(dataloader, model, loss_fn, optimizer, device):\n",
    "    \n",
    "    # store running loss\n",
    "    running_loss = 0\n",
    "    # data container for tracking loss progress  \n",
    "    train_losses = []\n",
    "    \n",
    "    # set model in training mode\n",
    "    model.train()\n",
    "    \n",
    "    for images, labels in dataloader:\n",
    "        \n",
    "        # move computations\n",
    "        images, labels = images.to(device), labels.to(device)\n",
    "\n",
    "        # forward pass through the network\n",
    "        pred = model(images)\n",
    "        # calculate the loss\n",
    "        loss = loss_fn(pred, labels)\n",
    "\n",
    "        # clear the gradient\n",
    "        optimizer.zero_grad()\n",
    "        # perform a backward pass \n",
    "        loss.backward()\n",
    "        # update the weights\n",
    "        optimizer.step()\n",
    "\n",
    "        # extract and accumulate loss value  \n",
    "        running_loss += loss.item()\n",
    "    \n",
    "    return running_loss/len(dataloader)"
   ]
  },
  {
   "cell_type": "code",
   "execution_count": 8,
   "metadata": {},
   "outputs": [],
   "source": [
    "# model testing\n",
    "def test_nn(dataloader, model, loss_fn, device):\n",
    "    \n",
    "    # initialize variable to track model performance\n",
    "    test_loss, accuracy = 0, 0\n",
    "    test_losses = []\n",
    "    # set model to evaluation mode \n",
    "    model.eval()\n",
    "    \n",
    "    # turn off gradient\n",
    "    with torch.no_grad():\n",
    "        for images, labels in dataloader:\n",
    "            # move computations\n",
    "            images, labels = images.to(device), labels.to(device)\n",
    "            # forward pass through the network\n",
    "            pred = model(images)\n",
    "            \n",
    "            # extract and accumulate loss value  \n",
    "            test_loss += loss_fn(pred, labels).item()\n",
    "            \n",
    "            # get the class probabilities\n",
    "            ps = torch.exp(model(images))\n",
    "            # return top probabilietes and classes\n",
    "            top_p, top_class = ps.topk(1, dim=1)\n",
    "            # check number of matches for  pred / labels \n",
    "            equals = top_class == labels.view(*top_class.shape)\n",
    "            accuracy  += torch.mean(equals.type(torch.FloatTensor)).item()\n",
    "    \n",
    "    return (test_loss/len(dataloader), accuracy/len(dataloader))"
   ]
  },
  {
   "cell_type": "code",
   "execution_count": 9,
   "metadata": {},
   "outputs": [],
   "source": [
    "# train neural network\n",
    "def train_nn_epoches(train_dataloader,\n",
    "                     valid_dataloader,\n",
    "                     model, \n",
    "                     criterion, \n",
    "                     optimizer,\n",
    "                     model_performance):\n",
    "    \n",
    "    print('Neural network training has begun!\\nBe patient it may take a while...\\n')\n",
    "    \n",
    "    # check if GPU computation is available \n",
    "    device = 'cuda' if torch.cuda.is_available() else 'cpu'\n",
    "    print('Using {} device\\n'.format(device))\n",
    "    # move model to GPU or CPU\n",
    "    model.to(device);\n",
    "    \n",
    "    epochs = model_performance['epoches']\n",
    "    \n",
    "    for epoch in range(epochs):\n",
    "\n",
    "        train_loss = train_nn(train_dataloader, model, criterion, optimizer, device)\n",
    "        valid_data = test_nn(valid_dataloader, model, criterion, device)\n",
    "\n",
    "        (valid_loss, accuracy) = valid_data\n",
    "\n",
    "        # store testing performance\n",
    "        model_performance['train losses'].append(train_loss)\n",
    "        model_performance['valid losses'].append(valid_loss)\n",
    "\n",
    "        print('Epoch: {}/{};'.format(epoch+1, epochs),\n",
    "              'Train loss: {:.3f};'.format(train_loss),\n",
    "              'Validation loss: {:.3f};'.format(valid_loss),\n",
    "              'Validation accuracy: {:.2f}%'.format(accuracy*100.0))\n",
    "\n",
    "    print('Training done!') "
   ]
  },
  {
   "cell_type": "code",
   "execution_count": 10,
   "metadata": {},
   "outputs": [
    {
     "name": "stdout",
     "output_type": "stream",
     "text": [
      "{'epoches': 20, 'train losses': [], 'valid losses': []}\n"
     ]
    }
   ],
   "source": [
    "# training data\n",
    "train_performance = {}\n",
    "train_performance['epoches'] = 20\n",
    "train_performance['train losses'] = []\n",
    "train_performance['valid losses'] = []\n",
    "print(train_performance)"
   ]
  },
  {
   "cell_type": "code",
   "execution_count": 11,
   "metadata": {},
   "outputs": [],
   "source": [
    "# loss function for optimizer \n",
    "# https://pytorch.org/docs/stable/generated/torch.nn.NLLLoss.html?highlight=nllloss#torch.nn.NLLLoss\n",
    "criterion = nn.NLLLoss()\n",
    "# define optimizer and learning rate\n",
    "optimizer = optim.Adam(my_model.classifier.parameters(), lr = 0.001)"
   ]
  },
  {
   "cell_type": "code",
   "execution_count": null,
   "metadata": {},
   "outputs": [
    {
     "name": "stdout",
     "output_type": "stream",
     "text": [
      "Neural network training has begun!\n",
      "Be patient it may take a while...\n",
      "\n",
      "Using cuda device\n",
      "\n",
      "Epoch: 1/20; Train loss: 3.094; Validation loss: 1.143; Validation accuracy: 69.12%\n",
      "Epoch: 2/20; Train loss: 1.667; Validation loss: 0.894; Validation accuracy: 74.98%\n",
      "Epoch: 3/20; Train loss: 1.306; Validation loss: 0.643; Validation accuracy: 81.25%\n",
      "Epoch: 4/20; Train loss: 1.157; Validation loss: 0.571; Validation accuracy: 85.34%\n",
      "Epoch: 5/20; Train loss: 1.071; Validation loss: 0.540; Validation accuracy: 86.46%\n",
      "Epoch: 6/20; Train loss: 1.006; Validation loss: 0.518; Validation accuracy: 85.39%\n",
      "Epoch: 7/20; Train loss: 0.991; Validation loss: 0.506; Validation accuracy: 85.82%\n",
      "Epoch: 8/20; Train loss: 0.915; Validation loss: 0.482; Validation accuracy: 88.02%\n",
      "Epoch: 9/20; Train loss: 0.884; Validation loss: 0.426; Validation accuracy: 88.48%\n",
      "Epoch: 10/20; Train loss: 0.853; Validation loss: 0.445; Validation accuracy: 88.51%\n",
      "Epoch: 11/20; Train loss: 0.847; Validation loss: 0.453; Validation accuracy: 88.21%\n",
      "Epoch: 12/20; Train loss: 0.815; Validation loss: 0.433; Validation accuracy: 89.01%\n",
      "Epoch: 13/20; Train loss: 0.831; Validation loss: 0.447; Validation accuracy: 89.34%\n",
      "Epoch: 14/20; Train loss: 0.808; Validation loss: 0.421; Validation accuracy: 91.09%\n",
      "Epoch: 15/20; Train loss: 0.809; Validation loss: 0.431; Validation accuracy: 88.87%\n",
      "Epoch: 16/20; Train loss: 0.759; Validation loss: 0.406; Validation accuracy: 90.04%\n",
      "Epoch: 17/20; Train loss: 0.748; Validation loss: 0.480; Validation accuracy: 89.17%\n",
      "Epoch: 18/20; Train loss: 0.794; Validation loss: 0.399; Validation accuracy: 90.97%\n",
      "Epoch: 19/20; Train loss: 0.743; Validation loss: 0.405; Validation accuracy: 90.49%\n"
     ]
    }
   ],
   "source": [
    "train_nn_epoches(train_dataloader,\n",
    "                 valid_dataloader,\n",
    "                 my_model,\n",
    "                 criterion,\n",
    "                 optimizer,\n",
    "                 train_performance)"
   ]
  },
  {
   "cell_type": "code",
   "execution_count": null,
   "metadata": {},
   "outputs": [],
   "source": [
    "# plot results\n",
    "plt.plot(train_performance['train losses'], label = 'Training loss')\n",
    "plt.plot(train_performance['valid losses'], label = 'Validation loss')\n",
    "plt.legend(frameon = False)\n",
    "plt.xlabel('epochs')\n",
    "plt.ylabel('negative log likelihood loss')\n",
    "plt.show()"
   ]
  },
  {
   "cell_type": "markdown",
   "metadata": {},
   "source": [
    "## Testing your network\n",
    "\n",
    "It's good practice to test your trained network on test data, images the network has never seen either in training or validation. This will give you a good estimate for the model's performance on completely new images. Run the test images through the network and measure the accuracy, the same way you did validation. You should be able to reach around 70% accuracy on the test set if the model has been trained well."
   ]
  },
  {
   "cell_type": "code",
   "execution_count": null,
   "metadata": {},
   "outputs": [],
   "source": [
    "# TODO: Do validation on the test set\n",
    "test_data = test_nn(test_dataloader,\n",
    "                    my_model, \n",
    "                    criterion,\n",
    "                    device = 'cuda' if torch.cuda.is_available() else 'cpu')\n",
    "\n",
    "(_, accuracy) = test_data\n",
    "print('Test accuracy: {:.2f}%'.format(accuracy*100.0))"
   ]
  },
  {
   "cell_type": "markdown",
   "metadata": {},
   "source": [
    "## Save the checkpoint\n",
    "\n",
    "Now that your network is trained, save the model so you can load it later for making predictions. You probably want to save other things such as the mapping of classes to indices which you get from one of the image datasets: `image_datasets['train'].class_to_idx`. You can attach this to the model as an attribute which makes inference easier later on.\n",
    "\n",
    "```model.class_to_idx = image_datasets['train'].class_to_idx```\n",
    "\n",
    "Remember that you'll want to completely rebuild the model later so you can use it for inference. Make sure to include any information you need in the checkpoint. If you want to load the model and keep training, you'll want to save the number of epochs as well as the optimizer state, `optimizer.state_dict`. You'll likely want to use this trained model in the next part of the project, so best to save it now."
   ]
  },
  {
   "cell_type": "code",
   "execution_count": null,
   "metadata": {},
   "outputs": [],
   "source": [
    "# TODO: Save the checkpoint \n",
    "# add mapping of indices to a model\n",
    "def save_checkpoint(model,\n",
    "                    optimizer,\n",
    "                    dataset,\n",
    "                    model_performance,\n",
    "                    filepath = 'checkpoint.pth'):\n",
    "    \n",
    "    chceckpoint = {'epoches' : model_performance['epoches'],\n",
    "                   'train losses' : model_performance['train losses'],\n",
    "                   'valid losses' : model_performance['valid losses'],\n",
    "                   'model state dict': model.state_dict(),\n",
    "                   'optimizer state' : optimizer.state_dict(),\n",
    "                   'classes to indices' : dataset.class_to_idx\n",
    "                  }\n",
    "\n",
    "    # save model state\n",
    "    torch.save(chceckpoint, 'checkpoint.pth')\n",
    "    print('Model saved successfully!')"
   ]
  },
  {
   "cell_type": "code",
   "execution_count": null,
   "metadata": {},
   "outputs": [],
   "source": [
    "save_checkpoint(my_model, optimizer, train_dataset, train_performance)"
   ]
  },
  {
   "cell_type": "markdown",
   "metadata": {},
   "source": [
    "## Loading the checkpoint\n",
    "\n",
    "At this point it's good to write a function that can load a checkpoint and rebuild the model. That way you can come back to this project and keep working on it without having to retrain the network."
   ]
  },
  {
   "cell_type": "code",
   "execution_count": null,
   "metadata": {},
   "outputs": [],
   "source": [
    "# TODO: Write a function that loads a checkpoint and rebuilds the model\n",
    "# load a chceckpoint\n",
    "def load_checkpoint(model, \n",
    "                    optimizer, \n",
    "                    filepath = 'checkpoint.pth',\n",
    "                    print_state = False):\n",
    "    \n",
    "    '''Load: model performance, model data and optimizer state from file'''\n",
    "    \n",
    "    if torch.cuda.is_available():\n",
    "        state_dict = torch.load(filepath)\n",
    "    else:\n",
    "        state_dict = torch.load(filepath, map_location='cpu')\n",
    "    \n",
    "    # load chceckpoint data\n",
    "    model_performance = {}\n",
    "    model_performance['epoches'] = state_dict['epoches']\n",
    "    model_performance['train losses'] = state_dict['train losses']\n",
    "    model_performance['valid losses'] = state_dict['valid losses']\n",
    "    \n",
    "    model.load_state_dict(state_dict['model state dict'],  strict=False)\n",
    "    optimizer.load_state_dict(state_dict['optimizer state'])\n",
    "    \n",
    "    class_to_idx = state_dict['classes to indices']\n",
    "    \n",
    "    # print state dict\n",
    "    if print_state:\n",
    "        for i in state_dict.items():\n",
    "            print(i, '\\n')\n",
    "    \n",
    "    print('Data has been successfully loaded')\n",
    "    return class_to_idx, model_performance"
   ]
  },
  {
   "cell_type": "code",
   "execution_count": null,
   "metadata": {},
   "outputs": [],
   "source": [
    "class_to_idx, train_performance = load_checkpoint(my_model, optimizer)"
   ]
  },
  {
   "cell_type": "markdown",
   "metadata": {},
   "source": [
    "# Inference for classification\n",
    "\n",
    "Now you'll write a function to use a trained network for inference. That is, you'll pass an image into the network and predict the class of the flower in the image. Write a function called `predict` that takes an image and a model, then returns the top $K$ most likely classes along with the probabilities. It should look like \n",
    "\n",
    "```python\n",
    "probs, classes = predict(image_path, model)\n",
    "print(probs)\n",
    "print(classes)\n",
    "> [ 0.01558163  0.01541934  0.01452626  0.01443549  0.01407339]\n",
    "> ['70', '3', '45', '62', '55']\n",
    "```\n",
    "\n",
    "First you'll need to handle processing the input image such that it can be used in your network. \n",
    "\n",
    "## Image Preprocessing\n",
    "\n",
    "You'll want to use `PIL` to load the image ([documentation](https://pillow.readthedocs.io/en/latest/reference/Image.html)). It's best to write a function that preprocesses the image so it can be used as input for the model. This function should process the images in the same manner used for training. \n",
    "\n",
    "First, resize the images where the shortest side is 256 pixels, keeping the aspect ratio. This can be done with the [`thumbnail`](http://pillow.readthedocs.io/en/3.1.x/reference/Image.html#PIL.Image.Image.thumbnail) or [`resize`](http://pillow.readthedocs.io/en/3.1.x/reference/Image.html#PIL.Image.Image.thumbnail) methods. Then you'll need to crop out the center 224x224 portion of the image.\n",
    "\n",
    "Color channels of images are typically encoded as integers 0-255, but the model expected floats 0-1. You'll need to convert the values. It's easiest with a Numpy array, which you can get from a PIL image like so `np_image = np.array(pil_image)`.\n",
    "\n",
    "As before, the network expects the images to be normalized in a specific way. For the means, it's `[0.485, 0.456, 0.406]` and for the standard deviations `[0.229, 0.224, 0.225]`. You'll want to subtract the means from each color channel, then divide by the standard deviation. \n",
    "\n",
    "And finally, PyTorch expects the color channel to be the first dimension but it's the third dimension in the PIL image and Numpy array. You can reorder dimensions using [`ndarray.transpose`](https://docs.scipy.org/doc/numpy-1.13.0/reference/generated/numpy.ndarray.transpose.html). The color channel needs to be first and retain the order of the other two dimensions."
   ]
  },
  {
   "cell_type": "code",
   "execution_count": null,
   "metadata": {},
   "outputs": [],
   "source": [
    "def process_image(image):\n",
    "    ''' Scales, crops, and normalizes a PIL image for a PyTorch model,\n",
    "        returns an Numpy array\n",
    "    '''\n",
    "    \n",
    "    mean = np.array([0.485, 0.456, 0.406])\n",
    "    std = np.array([0.229, 0.224, 0.225])\n",
    "    \n",
    "    # TODO: Process a PIL image for use in a PyTorch model\n",
    "    with Image.open(image) as im:\n",
    "        im_transform = transforms.Compose([transforms.Resize(256),\n",
    "                                           transforms.CenterCrop(224),\n",
    "                                           transforms.ToTensor(),\n",
    "                                           transforms.Normalize([0.485, 0.456, 0.406], [0.229, 0.224, 0.225])])\n",
    "        \n",
    "        im_tensor = torch.transpose(im_transform(im), 1, 1)\n",
    "        return np.array(im_tensor)"
   ]
  },
  {
   "cell_type": "code",
   "execution_count": null,
   "metadata": {},
   "outputs": [],
   "source": [
    "sample_image = process_image('flowers/test/102/image_08015.jpg')\n",
    "print(np.shape(sample_image))"
   ]
  },
  {
   "cell_type": "markdown",
   "metadata": {},
   "source": [
    "To check your work, the function below converts a PyTorch tensor and displays it in the notebook. If your `process_image` function works, running the output through this function should return the original image (except for the cropped out portions)."
   ]
  },
  {
   "cell_type": "code",
   "execution_count": null,
   "metadata": {},
   "outputs": [],
   "source": [
    "def imshow(image, ax=None, title=None):\n",
    "    \"\"\"Imshow for Tensor.\"\"\"\n",
    "    if ax is None:\n",
    "        fig, ax = plt.subplots()\n",
    "    \n",
    "    # PyTorch tensors assume the color channel is the first dimension\n",
    "    # but matplotlib assumes is the third dimension\n",
    "    #image = image.numpy().transpose((1, 2, 0))\n",
    "    image = image.transpose((1, 2, 0))\n",
    "    \n",
    "    # Undo preprocessing\n",
    "    mean = np.array([0.485, 0.456, 0.406])\n",
    "    std = np.array([0.229, 0.224, 0.225])\n",
    "    image = (std * image) + mean\n",
    "    \n",
    "    # Image needs to be clipped between 0 and 1 or it looks like noise when displayed\n",
    "    image = np.clip(image, 0, 1)\n",
    "    \n",
    "    #ax.rotate_deg(90)\n",
    "    ax.imshow(image)\n",
    "    \n",
    "    return ax"
   ]
  },
  {
   "cell_type": "code",
   "execution_count": null,
   "metadata": {},
   "outputs": [],
   "source": [
    "imshow(sample_image)"
   ]
  },
  {
   "cell_type": "markdown",
   "metadata": {},
   "source": [
    "## Class Prediction\n",
    "\n",
    "Once you can get images in the correct format, it's time to write a function for making predictions with your model. A common practice is to predict the top 5 or so (usually called top-$K$) most probable classes. You'll want to calculate the class probabilities then find the $K$ largest values.\n",
    "\n",
    "To get the top $K$ largest values in a tensor use [`x.topk(k)`](http://pytorch.org/docs/master/torch.html#torch.topk). This method returns both the highest `k` probabilities and the indices of those probabilities corresponding to the classes. You need to convert from these indices to the actual class labels using `class_to_idx` which hopefully you added to the model or from an `ImageFolder` you used to load the data ([see here](#Save-the-checkpoint)). Make sure to invert the dictionary so you get a mapping from index to class as well.\n",
    "\n",
    "Again, this method should take a path to an image and a model checkpoint, then return the probabilities and classes.\n",
    "\n",
    "```python\n",
    "probs, classes = predict(image_path, model)\n",
    "print(probs)\n",
    "print(classes)\n",
    "> [ 0.01558163  0.01541934  0.01452626  0.01443549  0.01407339]\n",
    "> ['70', '3', '45', '62', '55']\n",
    "```"
   ]
  },
  {
   "cell_type": "code",
   "execution_count": null,
   "metadata": {},
   "outputs": [],
   "source": [
    "def predict(image_path, model, topk=5):\n",
    "    ''' Predict the class (or classes) of an image using a trained deep learning model.\n",
    "    '''\n",
    "    \n",
    "    # TODO: Implement the code to predict the class from an image file\n",
    "    # import and convert image to tensor\n",
    "    image = torch.tensor(process_image(image_path))\n",
    "    # adjust tensor dimentions\n",
    "    image = torch.unsqueeze(image, 0)\n",
    "    # move tensor to cpu or gpu\n",
    "    image = image.to(device = 'cuda' if torch.cuda.is_available() else 'cpu')\n",
    "    with torch.no_grad():\n",
    "        # set model in evaluation mode\n",
    "        model.eval()\n",
    "        # get model probabilities\n",
    "        prob = torch.exp(model(image))\n",
    "    # compute and return top probabilities and classes\n",
    "    top_p, top_class = prob.topk(topk, dim=1)\n",
    "    \n",
    "    return tuple(np.array(top_p).tolist()[0]), tuple(np.array(top_class).tolist()[0])"
   ]
  },
  {
   "cell_type": "code",
   "execution_count": null,
   "metadata": {},
   "outputs": [],
   "source": [
    "top_p, top_class = predict('flowers/test/102/image_08015.jpg', my_model)\n",
    "print(top_p, top_class)"
   ]
  },
  {
   "cell_type": "code",
   "execution_count": null,
   "metadata": {},
   "outputs": [],
   "source": [
    "idx_to_class = {i:k for k, i in class_to_idx.items()}\n",
    "# labels mapping\n",
    "#print(idx_to_class,'\\n')\n",
    "#print(train_dataset.class_to_idx)\n",
    "#print(cat_to_name, '\\n')\n",
    "#print(cat_to_name[idx_to_class[top_class[0]]])"
   ]
  },
  {
   "cell_type": "markdown",
   "metadata": {},
   "source": [
    "## Sanity Checking\n",
    "\n",
    "Now that you can use a trained model for predictions, check to make sure it makes sense. Even if the testing accuracy is high, it's always good to check that there aren't obvious bugs. Use `matplotlib` to plot the probabilities for the top 5 classes as a bar graph, along with the input image. It should look like this:\n",
    "\n",
    "<img src='assets/inference_example.png' width=300px>\n",
    "\n",
    "You can convert from the class integer encoding to actual flower names with the `cat_to_name.json` file (should have been loaded earlier in the notebook). To show a PyTorch tensor as an image, use the `imshow` function defined above."
   ]
  },
  {
   "cell_type": "code",
   "execution_count": null,
   "metadata": {},
   "outputs": [],
   "source": [
    "# TODO: Display an image along with the top 5 classes\n",
    "\n",
    "#test_image_path = 'flowers/test/102/image_08015.jpg'\n",
    "test_image_path = 'flowers/test/69/image_05959.jpg'\n",
    "#test_image_path = 'flowers/test/18/image_04292.jpg'\n",
    "#test_image_path = 'flowers/test/7/image_07219.jpg'\n",
    "\n",
    "test_image = process_image(test_image_path)\n",
    "test_top_p, test_top_class = predict(test_image_path, my_model)\n",
    "\n",
    "# get top model labels\n",
    "flowers_labels = [cat_to_name[idx_to_class[test_top_class[i]]] for i in range(len(test_top_class))]\n",
    "#print(flowers_labels)\n",
    "\n",
    "# plot image and top model classes\n",
    "fig, (ax1, ax2) = plt.subplots(nrows=2, figsize=(8,8))\n",
    "fig.tight_layout()\n",
    "\n",
    "ax1.set_title(cat_to_name[idx_to_class[test_top_class[0]]])\n",
    "ax1.axis('off')\n",
    "imshow(test_image, ax1)\n",
    "\n",
    "y_pos = np.arange(len(test_top_class))\n",
    "ax2.barh(y_pos, test_top_p)\n",
    "ax2.set_yticks(y_pos)\n",
    "ax2.set_yticklabels(flowers_labels)\n",
    "ax2.set_aspect(0.21)\n",
    "ax2.set_title('Class Probability')\n",
    "ax2.set_xlim(0, 1.1)\n",
    "ax2.invert_yaxis() \n",
    "plt.show()"
   ]
  },
  {
   "cell_type": "markdown",
   "metadata": {},
   "source": [
    "<font color='red'>**Reminder for Workspace users:** If your network becomes very large when saved as a checkpoint, there might be issues with saving backups in your workspace. You should reduce the size of your hidden layers and train again. \n",
    "    \n",
    "We strongly encourage you to delete these large interim files and directories before navigating to another page or closing the browser tab.</font>"
   ]
  },
  {
   "cell_type": "code",
   "execution_count": null,
   "metadata": {},
   "outputs": [],
   "source": [
    "# TODO remove .pth files or move it to a temporary `~/opt` directory in this Workspace"
   ]
  }
 ],
 "metadata": {
  "kernelspec": {
   "display_name": "Python 3",
   "language": "python",
   "name": "python3"
  },
  "language_info": {
   "codemirror_mode": {
    "name": "ipython",
    "version": 3
   },
   "file_extension": ".py",
   "mimetype": "text/x-python",
   "name": "python",
   "nbconvert_exporter": "python",
   "pygments_lexer": "ipython3",
   "version": "3.6.3"
  },
  "widgets": {
   "application/vnd.jupyter.widget-state+json": {
    "state": {},
    "version_major": 2,
    "version_minor": 0
   }
  }
 },
 "nbformat": 4,
 "nbformat_minor": 2
}
